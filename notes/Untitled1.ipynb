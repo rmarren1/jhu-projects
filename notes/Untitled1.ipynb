{
 "cells": [
  {
   "cell_type": "code",
   "execution_count": 273,
   "metadata": {
    "collapsed": false
   },
   "outputs": [
    {
     "name": "stdout",
     "output_type": "stream",
     "text": [
      "884\n",
      "408\n",
      "476\n"
     ]
    }
   ],
   "source": [
    "# make notebook look in correct directory\n",
    "import os\n",
    "os.chdir('../src/')\n",
    "\n",
    "# load required dependencies\n",
    "import util.setup as setup\n",
    "import numpy as np\n",
    "from util import clean_data as cd\n",
    "import algos.basic as basic\n",
    "import algos.similarity as sim\n",
    "import experiments.static as st\n",
    "import util.viz as viz\n",
    "from plotly.offline import download_plotlyjs, init_notebook_mode, plot, iplot\n",
    "\n",
    "# paths\n",
    "MDP1 = '../data/Phenotypic_V1_0b_preprocessed1.csv'\n",
    "PRE1 = '../data/rois_ez/'\n",
    "POST1 = '_rois_ez.1D'\n",
    "\n",
    "MDP2 = '../data/Phenotypic_V1_0b_preprocessed1.csv'\n",
    "PRE2 = '../data/rois_cc200/'\n",
    "POST2 = '_rois_cc200.1D'\n",
    "\n",
    "# get meta-data of subjects\n",
    "tup = setup.get_data2(MDP1, PRE1, POST1, MDP2, PRE2, POST2)\n",
    "data1, data2, labels1, labels2, num_patients = tup\n",
    "print len(data2)\n",
    "print np.sum(labels2 == 1)\n",
    "print np.sum(labels2 == 2)\n",
    "# mean center all of the data\n",
    "data1 = cd.run_function(basic.mean_center, data1)\n",
    "data2 = cd.run_function(basic.mean_center, data2)\n",
    "\n",
    "# change from samples x dimensions to dimensions x samples\n",
    "data1 = cd.run_function(basic.transpose, data1)\n",
    "data2 = cd.run_function(basic.transpose, data2)\n",
    "\n",
    "# split subjects into training, testing, tuning (randomly)\n",
    "n_train = 684\n",
    "n_tune = 100\n",
    "n_test = 100\n",
    "D1, L1 = setup.split_data(data1,\n",
    "                        labels1,\n",
    "                        n_train,\n",
    "                        n_tune,\n",
    "                        n_test)\n",
    "D2, L2 = setup.split_data(data2,\n",
    "                        labels2,\n",
    "                        n_train,\n",
    "                        n_tune,\n",
    "                        n_test)\n"
   ]
  },
  {
   "cell_type": "code",
   "execution_count": 274,
   "metadata": {
    "collapsed": false
   },
   "outputs": [
    {
     "name": "stdout",
     "output_type": "stream",
     "text": [
      "884\n",
      "0\n",
      "476\n"
     ]
    }
   ],
   "source": [
    "print len(data1)\n",
    "print np.sum(labels1 == 1) - np.sum(labels2 == 1)\n",
    "print np.sum(labels1 == 2)"
   ]
  },
  {
   "cell_type": "code",
   "execution_count": 275,
   "metadata": {
    "collapsed": false
   },
   "outputs": [],
   "source": [
    "ND2 = 30\n",
    "ND1 = 30\n",
    "NC2 = 8\n",
    "NC1 = 8\n",
    "# specify the model to use\n",
    "model1 = {\n",
    "    'clust' : sim.spec,\n",
    "    'correl' : basic.correl,\n",
    "    'thresh' : np.arange(.01, .1, .032),\n",
    "    'show_plots' : True,\n",
    "    'clust_params' : {\n",
    "        'affinity' : 'precomputed',\n",
    "        'n_clusters' : NC1,\n",
    "        'gamma' : .5\n",
    "    }\n",
    "}\n",
    "model2 = {\n",
    "    'clust' : sim.spec,\n",
    "    'correl' : basic.correl,\n",
    "    'thresh' : np.arange(.01, .1, .032),\n",
    "    'show_plots' : True,\n",
    "    'clust_params' : {\n",
    "        'affinity' : 'precomputed',\n",
    "        'n_clusters' : NC2,\n",
    "        'gamma' : .5\n",
    "    }\n",
    "}\n",
    "D1TRa = st.block_rep(D1['train']['a'], model1)\n",
    "D1TRc = st.block_rep(D1['train']['c'], model1)\n",
    "D2TRa= st.block_rep(D2['train']['a'], model2)\n",
    "D2TRc = st.block_rep(D2['train']['c'], model2)\n",
    "\n",
    "D1TRa = cd.run_function(basic.upper_tri, D1TRa)\n",
    "D1TRc = cd.run_function(basic.upper_tri, D1TRc)\n",
    "D2TRa= cd.run_function(basic.upper_tri, D2TRa)\n",
    "D2TRc = cd.run_function(basic.upper_tri, D2TRc)\n",
    "\n",
    "D1TRa = np.column_stack(D1TRa)\n",
    "D1TRc = np.column_stack(D1TRc)\n",
    "D2TRa= np.column_stack(D2TRa)\n",
    "D2TRc = np.column_stack(D2TRc)"
   ]
  },
  {
   "cell_type": "code",
   "execution_count": 276,
   "metadata": {
    "collapsed": false
   },
   "outputs": [
    {
     "name": "stdout",
     "output_type": "stream",
     "text": [
      "81\n"
     ]
    }
   ],
   "source": [
    "M_a1 = np.mean(D1TRa, axis = 1)\n",
    "M_c1 = np.mean(D1TRc, axis = 1)\n",
    "M_1 = M_a1 - M_c1\n",
    "ind1 = (np.abs(M_1) > .08)\n",
    "print np.sum(ind1)"
   ]
  },
  {
   "cell_type": "code",
   "execution_count": 277,
   "metadata": {
    "collapsed": false
   },
   "outputs": [
    {
     "name": "stdout",
     "output_type": "stream",
     "text": [
      "359\n"
     ]
    }
   ],
   "source": [
    "M_a2 = np.mean(D2TRa, axis = 1)\n",
    "M_c2 = np.mean(D2TRc, axis = 1)\n",
    "M_2 = M_a2 - M_c2\n",
    "ind2 = (np.abs(M_2) > .08)\n",
    "print np.sum(ind2)"
   ]
  },
  {
   "cell_type": "code",
   "execution_count": 282,
   "metadata": {
    "collapsed": false
   },
   "outputs": [
    {
     "name": "stdout",
     "output_type": "stream",
     "text": [
      "(6670, 684)\n",
      "(19900, 684)\n",
      "(81, 684)\n",
      "(359, 684)\n"
     ]
    }
   ],
   "source": [
    "V1 = np.hstack((D1TRa, D1TRc))\n",
    "V2 = np.hstack((D2TRa, D2TRc))\n",
    "print V1.shape\n",
    "print V2.shape\n",
    "V1 = V1[ind1, :]\n",
    "V2 = V2[ind2, :]\n",
    "print V1.shape\n",
    "print V2.shape"
   ]
  },
  {
   "cell_type": "code",
   "execution_count": 283,
   "metadata": {
    "collapsed": false
   },
   "outputs": [],
   "source": [
    "phi_1, phi_2 = cd.CCA(V1, V2, 200)\n",
    "phi_1 = phi_1[:, :ND1]\n",
    "phi_2 = phi_2[:, :ND2]"
   ]
  },
  {
   "cell_type": "code",
   "execution_count": 284,
   "metadata": {
    "collapsed": false
   },
   "outputs": [
    {
     "name": "stdout",
     "output_type": "stream",
     "text": [
      "(81, 30)\n",
      "(359, 30)\n",
      "(30, 684)\n",
      "(30, 684)\n"
     ]
    }
   ],
   "source": [
    "print phi_1.shape\n",
    "print phi_2.shape\n",
    "proj_d1 = phi_1.T.dot(V1)\n",
    "proj_d2 = phi_2.T.dot(V2)\n",
    "print proj_d1.shape\n",
    "print proj_d2.shape"
   ]
  },
  {
   "cell_type": "code",
   "execution_count": 285,
   "metadata": {
    "collapsed": false
   },
   "outputs": [
    {
     "name": "stdout",
     "output_type": "stream",
     "text": [
      "(26630, 684)\n",
      "684\n"
     ]
    }
   ],
   "source": [
    "V1 = np.hstack((D1TRa, D1TRc)) * M_1.reshape(-1, 1)\n",
    "V2 = np.hstack((D2TRa, D2TRc)) * M_2.reshape(-1, 1)\n",
    "F = np.vstack((proj_d1, proj_d2, V1, V2))\n",
    "print F.shape\n",
    "labels = D1TRa.shape[1] * [1]\n",
    "labels = labels + D1TRc.shape[1] * [2]\n",
    "print len(labels)"
   ]
  },
  {
   "cell_type": "code",
   "execution_count": 286,
   "metadata": {
    "collapsed": true
   },
   "outputs": [],
   "source": [
    "from sklearn.linear_model import Perceptron\n",
    "from sklearn.svm import SVC\n",
    "from sklearn.neural_network import MLPClassifier"
   ]
  },
  {
   "cell_type": "code",
   "execution_count": 287,
   "metadata": {
    "collapsed": false
   },
   "outputs": [
    {
     "data": {
      "text/plain": [
       "MLPClassifier(activation='relu', alpha=0.0001, batch_size='auto', beta_1=0.9,\n",
       "       beta_2=0.999, early_stopping=False, epsilon=1e-08,\n",
       "       hidden_layer_sizes=(100,), learning_rate='constant',\n",
       "       learning_rate_init=0.001, max_iter=200, momentum=0.9,\n",
       "       nesterovs_momentum=True, power_t=0.5, random_state=None,\n",
       "       shuffle=True, solver='adam', tol=0.0001, validation_fraction=0.1,\n",
       "       verbose=False, warm_start=False)"
      ]
     },
     "execution_count": 287,
     "metadata": {},
     "output_type": "execute_result"
    }
   ],
   "source": [
    "per = MLPClassifier()\n",
    "clf = SVC(kernel='rbf')\n",
    "per.fit(F.T, labels)"
   ]
  },
  {
   "cell_type": "code",
   "execution_count": 292,
   "metadata": {
    "collapsed": false
   },
   "outputs": [
    {
     "name": "stdout",
     "output_type": "stream",
     "text": [
      "0.69\n"
     ]
    }
   ],
   "source": [
    "D1Tu = st.block_rep(D1['tune'], model1)\n",
    "D2Tu = st.block_rep(D2['tune'], model2)\n",
    "\n",
    "D1Tu = cd.run_function(basic.upper_tri, D1Tu)\n",
    "D2Tu = cd.run_function(basic.upper_tri, D2Tu)\n",
    "\n",
    "D1Tu = np.column_stack(D1Tu)\n",
    "D2Tu = np.column_stack(D2Tu)\n",
    "\n",
    "V1Tu = D1Tu[ind1, :]\n",
    "V2Tu = D2Tu[ind2, :]\n",
    "\n",
    "proj_test_D1 = phi_1.T.dot(V1Tu)\n",
    "proj_test_D2 = phi_2.T.dot(V2Tu)\n",
    "\n",
    "V1 = D1Tu * M_1.reshape(-1, 1)\n",
    "V2 = D2Tu * M_2.reshape(-1, 1)\n",
    "\n",
    "F_test = np.vstack((proj_test_D1, proj_test_D2, V1, V2))\n",
    "print per.score(F_test.T, L1['tune'])"
   ]
  },
  {
   "cell_type": "code",
   "execution_count": 291,
   "metadata": {
    "collapsed": false
   },
   "outputs": [
    {
     "name": "stdout",
     "output_type": "stream",
     "text": [
      "0.59\n"
     ]
    }
   ],
   "source": [
    "D1Tu = st.block_rep(D1['test'], model1)\n",
    "D2Tu = st.block_rep(D2['test'], model2)\n",
    "\n",
    "D1Tu = cd.run_function(basic.upper_tri, D1Tu)\n",
    "D2Tu = cd.run_function(basic.upper_tri, D2Tu)\n",
    "\n",
    "D1Tu = np.column_stack(D1Tu)\n",
    "D2Tu = np.column_stack(D2Tu)\n",
    "\n",
    "V1Tu = D1Tu[ind1, :]\n",
    "V2Tu = D2Tu[ind2, :]\n",
    "\n",
    "proj_test_D1 = phi_1.T.dot(V1Tu)\n",
    "proj_test_D2 = phi_2.T.dot(V2Tu)\n",
    "\n",
    "V1 = D1Tu * M_1.reshape(-1, 1)\n",
    "V2 = D2Tu * M_2.reshape(-1, 1)\n",
    "\n",
    "F_test = np.vstack((proj_test_D1, proj_test_D2, V1, V2))\n",
    "print per.score(F_test.T, L1['test'])"
   ]
  },
  {
   "cell_type": "code",
   "execution_count": 294,
   "metadata": {
    "collapsed": false
   },
   "outputs": [
    {
     "name": "stdout",
     "output_type": "stream",
     "text": [
      "[1 2 2 2 2 1 2 1 1 2 1 1 2 2 1 2 2 2 2 1 2 1 2 2 1 2 2 1 1 1 2 2 2 2 2 1 2\n",
      " 2 2 1 2 2 2 2 2 2 1 1 2 1 1 2 2 1 2 2 2 1 1 2 1 2 2 1 1 2 2 2 2 1 1 1 1 1\n",
      " 2 2 2 1 2 2 2 2 1 2 2 1 2 1 1 2 2 1 1 2 2 1 1 1 2 2]\n",
      "[  3.86756465e-01   1.13462807e-01   6.86146573e-01   1.67369539e-02\n",
      "   3.68773637e-01   9.98485116e-01   1.43871959e-01   2.88704158e-01\n",
      "   9.57177348e-03   7.49549863e-01   6.49330825e-03   4.29726202e-01\n",
      "   1.47780233e-01   2.74499779e-01   1.94866948e-01   9.48082863e-01\n",
      "   7.31442478e-02   9.57688264e-01   1.22418701e-02   9.83022387e-01\n",
      "   1.54889857e-01   6.22385805e-03   8.84972831e-01   5.62636436e-01\n",
      "   4.96176621e-02   2.00365724e-01   6.32441908e-01   9.37247755e-01\n",
      "   6.72592938e-03   1.02466870e-01   2.79551339e-02   1.37985361e-01\n",
      "   4.69411562e-01   4.28024391e-01   7.88279715e-01   1.80641683e-01\n",
      "   5.21846483e-02   4.76293491e-02   8.55540367e-01   6.51516487e-03\n",
      "   9.98072654e-01   5.43872129e-02   8.05250876e-01   7.54208582e-01\n",
      "   1.39993932e-01   3.83508955e-02   9.99826662e-01   1.50001074e-02\n",
      "   1.09272741e-03   6.63504996e-01   1.49930312e-01   2.58742676e-01\n",
      "   2.11911799e-01   9.64163720e-01   3.94574802e-01   2.76483466e-02\n",
      "   8.54457567e-02   5.44237326e-01   2.64018017e-04   5.75196277e-01\n",
      "   9.88414645e-02   3.87445052e-04   8.83356926e-02   2.39771712e-01\n",
      "   1.70504608e-01   2.02015681e-02   5.50349810e-01   9.93266954e-01\n",
      "   7.48824744e-02   2.22088289e-01   5.53080282e-01   2.39026992e-02\n",
      "   7.51556014e-04   3.45356248e-04   5.47775752e-01   2.17669957e-03\n",
      "   3.90063552e-03   8.44600219e-01   8.38004335e-01   9.93038647e-01\n",
      "   9.77097295e-02   2.45726422e-01   9.65435789e-01   1.10155365e-03\n",
      "   9.00709757e-02   2.70710408e-01   9.20144984e-01   4.51213246e-03\n",
      "   9.66822649e-01   5.74628246e-01   6.58040287e-01   1.78126697e-01\n",
      "   9.79519691e-01   9.93969116e-01   9.75491498e-01   9.78329610e-01\n",
      "   7.14522868e-02   9.99404326e-01   9.94446986e-01   9.42708194e-01]\n"
     ]
    },
    {
     "data": {
      "image/png": "[encoded data removed]",
      "text/plain": [
       "<matplotlib.figure.Figure at 0x7f5c851e8290>"
      ]
     },
     "metadata": {},
     "output_type": "display_data"
    }
   ],
   "source": [
    "ev = per.predict_proba(F_test.T)[:, 0]\n",
    "ev_a = ev[L1['tune'] == 1]\n",
    "ev_c = ev[L1['tune'] == 2]\n",
    "print L1['test']\n",
    "print ev\n",
    "import seaborn as sns\n",
    "import numpy as np\n",
    "import matplotlib.pyplot as plt\n",
    "sns.kdeplot(ev_a, bw=.2)\n",
    "sns.kdeplot(ev_c, bw=.2)\n",
    "plt.title(\"Kernel Density Estimates of Classifier Scores.\")\n",
    "plt.xlabel(\"Score Given by Classifier\")\n",
    "plt.ylabel(\"Kernel Density Estimate\")\n",
    "plt.show()"
   ]
  },
  {
   "cell_type": "code",
   "execution_count": null,
   "metadata": {
    "collapsed": true
   },
   "outputs": [],
   "source": []
  }
 ],
 "metadata": {
  "kernelspec": {
   "display_name": "Python 2",
   "language": "python",
   "name": "python2"
  },
  "language_info": {
   "codemirror_mode": {
    "name": "ipython",
    "version": 2
   },
   "file_extension": ".py",
   "mimetype": "text/x-python",
   "name": "python",
   "nbconvert_exporter": "python",
   "pygments_lexer": "ipython2",
   "version": "2.7.12"
  }
 },
 "nbformat": 4,
 "nbformat_minor": 1
}
