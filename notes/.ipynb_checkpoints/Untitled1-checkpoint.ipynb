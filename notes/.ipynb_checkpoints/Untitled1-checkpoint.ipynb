{
 "cells": [
  {
   "cell_type": "code",
   "execution_count": 9,
   "metadata": {
    "collapsed": false
   },
   "outputs": [],
   "source": [
    "# make notebook look in correct directory\n",
    "import os\n",
    "os.chdir('../src/')\n",
    "\n",
    "# load required dependencies\n",
    "import util.setup as setup\n",
    "import numpy as np\n",
    "from util import clean_data as cd\n",
    "import algos.basic as basic\n",
    "import algos.similarity as sim\n",
    "import experiments.static as st\n",
    "import util.viz as viz\n",
    "from plotly.offline import download_plotlyjs, init_notebook_mode, plot, iplot\n",
    "\n",
    "# paths\n",
    "MDP1 = '../data/Phenotypic_V1_0b_preprocessed1.csv'\n",
    "PRE1 = '../data/rois_ez/'\n",
    "POST1 = '_rois_ez.1D'\n",
    "\n",
    "MDP2 = '../data/Phenotypic_V1_0b_preprocessed1.csv'\n",
    "PRE2 = '../data/rois_cc200/'\n",
    "POST2 = '_rois_cc200.1D'\n",
    "\n",
    "# get meta-data of subjects\n",
    "tup = setup.get_data2(MDP1, PRE1, POST1, MDP2, PRE2, POST2)\n",
    "data1, data2, labels1, labels2, num_patients = tup\n",
    "# mean center all of the data\n",
    "data1 = cd.run_function(basic.mean_center, data1)\n",
    "data2 = cd.run_function(basic.mean_center, data2)\n",
    "\n",
    "# change from samples x dimensions to dimensions x samples\n",
    "data1 = cd.run_function(basic.transpose, data1)\n",
    "data2 = cd.run_function(basic.transpose, data2)\n",
    "\n",
    "# split subjects into training, testing, tuning (randomly)\n",
    "n_train = 684\n",
    "n_tune = 100\n",
    "n_test = 100\n",
    "D1, L1 = setup.split_data(data1,\n",
    "                        labels1,\n",
    "                        n_train,\n",
    "                        n_tune,\n",
    "                        n_test)\n",
    "D2, L2 = setup.split_data(data2,\n",
    "                        labels2,\n",
    "                        n_train,\n",
    "                        n_tune,\n",
    "                        n_test)\n",
    "# specify the model to use\n",
    "model1 = {\n",
    "    'clust' : sim.spec,\n",
    "    'correl' : basic.correl,\n",
    "    'thresh' : np.arange(.01, .1, .032),\n",
    "    'show_plots' : True,\n",
    "    'clust_params' : {\n",
    "        'affinity' : 'precomputed',\n",
    "        'n_clusters' : 5,\n",
    "        'gamma' : 1\n",
    "    }\n",
    "}\n",
    "model2 = {\n",
    "    'clust' : sim.spec,\n",
    "    'correl' : basic.correl,\n",
    "    'thresh' : np.arange(.01, .1, .032),\n",
    "    'show_plots' : True,\n",
    "    'clust_params' : {\n",
    "        'affinity' : 'precomputed',\n",
    "        'n_clusters' : 10,\n",
    "        'gamma' : 1\n",
    "    }\n",
    "}\n",
    "D1['train']['a'] = st.block_rep(D1['train']['a'], model1)\n",
    "D1['train']['c'] = st.block_rep(D1['train']['c'], model1)\n",
    "D2['train']['a']= st.block_rep(D2['train']['a'], model2)\n",
    "D2['train']['c'] = st.block_rep(D2['train']['c'], model2)\n",
    "\n",
    "D1['train']['a'] = cd.run_function(basic.upper_tri, D1['train']['a'])\n",
    "D1['train']['c'] = cd.run_function(basic.upper_tri, D1['train']['c'])\n",
    "D2['train']['a']= cd.run_function(basic.upper_tri, D2['train']['a'])\n",
    "D2['train']['c'] = cd.run_function(basic.upper_tri, D2['train']['c'])\n",
    "\n",
    "D1['train']['a'] = np.column_stack(D1['train']['a'])\n",
    "D1['train']['c'] = np.column_stack(D1['train']['c'])\n",
    "D2['train']['a']= np.column_stack(D2['train']['a'])\n",
    "D2['train']['c'] = np.column_stack(D2['train']['c'])"
   ]
  },
  {
   "cell_type": "code",
   "execution_count": 13,
   "metadata": {
    "collapsed": false
   },
   "outputs": [
    {
     "name": "stdout",
     "output_type": "stream",
     "text": [
      "(6670, 684)\n",
      "(19900, 684)\n"
     ]
    }
   ],
   "source": [
    "D1 = np.hstack((D1['train']['a'], D1['train']['c']))\n",
    "D2 = np.hstack((D2['train']['a'], D2['train']['c']))\n",
    "print D1.shape\n",
    "print D2.shape"
   ]
  },
  {
   "cell_type": "code",
   "execution_count": null,
   "metadata": {
    "collapsed": true
   },
   "outputs": [],
   "source": [
    "phi_1, phi_2 = CCA(D1, D2, 100)"
   ]
  }
 ],
 "metadata": {
  "kernelspec": {
   "display_name": "Python 2",
   "language": "python",
   "name": "python2"
  },
  "language_info": {
   "codemirror_mode": {
    "name": "ipython",
    "version": 2
   },
   "file_extension": ".py",
   "mimetype": "text/x-python",
   "name": "python",
   "nbconvert_exporter": "python",
   "pygments_lexer": "ipython2",
   "version": "2.7.12"
  }
 },
 "nbformat": 4,
 "nbformat_minor": 1
}
