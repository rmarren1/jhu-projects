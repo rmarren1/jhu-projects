{
 "cells": [
  {
   "cell_type": "code",
   "execution_count": 40,
   "metadata": {
    "collapsed": false
   },
   "outputs": [
    {
     "name": "stdout",
     "output_type": "stream",
     "text": [
      "CPU times: user 0 ns, sys: 0 ns, total: 0 ns\n",
      "Wall time: 21.9 µs\n"
     ]
    }
   ],
   "source": [
    "%%time\n",
    "import os\n",
    "import numpy as np\n",
    "os.chdir('../src/')\n",
    "from util import clean_data as cd\n",
    "from util import viz\n",
    "import algos.basic as basic\n",
    "import algos.similarity as sim\n",
    "import pandas as pd\n",
    "METADATA_PATH = '../data/Phenotypic_V1_0b_preprocessed1.csv'\n",
    "PREFIX = '../data/rois_ez/'\n",
    "POSTFIX = '_rois_ez.1D'"
   ]
  },
  {
   "cell_type": "code",
   "execution_count": 41,
   "metadata": {
    "collapsed": false
   },
   "outputs": [
    {
     "name": "stdout",
     "output_type": "stream",
     "text": [
      "CPU times: user 28 ms, sys: 0 ns, total: 28 ms\n",
      "Wall time: 25 ms\n"
     ]
    }
   ],
   "source": [
    "%%time\n",
    "md = cd.get_metadata(METADATA_PATH, ['FILE_ID', 'DX_GROUP'])"
   ]
  },
  {
   "cell_type": "code",
   "execution_count": 42,
   "metadata": {
    "collapsed": false
   },
   "outputs": [
    {
     "name": "stdout",
     "output_type": "stream",
     "text": [
      "CPU times: user 4 ms, sys: 0 ns, total: 4 ms\n",
      "Wall time: 172 ms\n"
     ]
    }
   ],
   "source": [
    "%%time\n",
    "good_md = cd.filter_file_names(md, PREFIX, POSTFIX)\n",
    "f_names = np.array(map(lambda x: x['FILE_ID'], good_md))\n",
    "dx_groups = np.array(map(lambda x: int(x['DX_GROUP']), good_md))\n",
    "p = np.random.permutation(len(dx_groups))\n",
    "dx_groups = dx_groups[p]\n",
    "f_names = f_names[p]"
   ]
  },
  {
   "cell_type": "code",
   "execution_count": 43,
   "metadata": {
    "collapsed": false
   },
   "outputs": [
    {
     "name": "stdout",
     "output_type": "stream",
     "text": [
      "Processed 0000 of 0884 brains.\n",
      "Processed 0100 of 0884 brains.\n",
      "Processed 0200 of 0884 brains.\n",
      "Processed 0300 of 0884 brains.\n",
      "Processed 0400 of 0884 brains.\n",
      "Processed 0500 of 0884 brains.\n",
      "Processed 0600 of 0884 brains.\n",
      "Processed 0700 of 0884 brains.\n",
      "Processed 0800 of 0884 brains.\n",
      "Processed 0000 of 0884 brains.\n",
      "Processed 0100 of 0884 brains.\n",
      "Processed 0200 of 0884 brains.\n",
      "Processed 0300 of 0884 brains.\n",
      "Processed 0400 of 0884 brains.\n",
      "Processed 0500 of 0884 brains.\n",
      "Processed 0600 of 0884 brains.\n",
      "Processed 0700 of 0884 brains.\n",
      "Processed 0800 of 0884 brains.\n",
      "CPU times: user 11.1 s, sys: 256 ms, total: 11.4 s\n",
      "Wall time: 17.1 s\n"
     ]
    }
   ],
   "source": [
    "%%time\n",
    "data = cd.get_data(f_names)\n",
    "data = cd.run_function(basic.transpose, data)\n",
    "data = cd.run_function(basic.mean_center, data)"
   ]
  },
  {
   "cell_type": "code",
   "execution_count": null,
   "metadata": {
    "collapsed": false
   },
   "outputs": [
    {
     "name": "stdout",
     "output_type": "stream",
     "text": [
      "614\n",
      "90\n",
      "704\n"
     ]
    }
   ],
   "source": [
    "%%time\n",
    "n_train = 614\n",
    "n_tune = 90\n",
    "n_test = 180\n",
    "D = {\n",
    "    'train' : data[:n_train],\n",
    "    'tune' : data[n_train:n_train + n_tune],\n",
    "    'test' : data[:-n_test]\n",
    "}\n",
    "L = {\n",
    "    'train' : dx_groups[:n_train],\n",
    "    'tune' : dx_groups[n_train:n_train + n_tune],\n",
    "    'train' : dx_groups[:-n_test]\n",
    "}\n",
    "print len(D['train'])\n",
    "print len(D['tune'])\n",
    "print len(D['test'])\n",
    "train_a, train_c = cd.split_groups(D['train'], L['train'])\n",
    "tune_a, tune_c = cd.split_groups(D['tune'], L['tune'])\n",
    "data_a = cd.concat_group(data_a)\n",
    "data_c = cd.concat_group(data_c)\n",
    "tune_a = cd.concat_group(data_a)\n",
    "tune_c = cd.concat_group(data_c)\n",
    "print data_a.shape\n",
    "print data_c.shape\n",
    "print tune_a.shape\n",
    "print tune_c.shape"
   ]
  },
  {
   "cell_type": "code",
   "execution_count": 7,
   "metadata": {
    "collapsed": false
   },
   "outputs": [
    {
     "name": "stdout",
     "output_type": "stream",
     "text": [
      "(15, 8850)\n"
     ]
    }
   ],
   "source": [
    "params = {\n",
    "    'k' : 15,\n",
    "    'h' : 2,\n",
    "    'd_cont' : 5,\n",
    "    'd_words' : 5\n",
    "}\n",
    "model = cd.train(data_a, params)\n",
    " = cd.embed(data_a, model)\n",
    "print embedding.shape"
   ]
  },
  {
   "cell_type": "code",
   "execution_count": null,
   "metadata": {
    "collapsed": false
   },
   "outputs": [],
   "source": []
  },
  {
   "cell_type": "code",
   "execution_count": null,
   "metadata": {
    "collapsed": false,
    "scrolled": true
   },
   "outputs": [],
   "source": [
    "%%time\n",
    "correl = cd.run_function(basic.correl, data)\n",
    "viz.heatmap_channels(cd.run_function(basic.transpose, data),\n",
    "         1,\n",
    "         title='Activity over time',\n",
    "         xtitle='Time step',\n",
    "         ytitle='Region of Interest')\n",
    "viz.heatmap_channels(correl,\n",
    "         1,\n",
    "         title='Correlation',\n",
    "         xtitle='ROI',\n",
    "         ytitle='ROI')"
   ]
  },
  {
   "cell_type": "code",
   "execution_count": null,
   "metadata": {
    "collapsed": false
   },
   "outputs": [],
   "source": [
    "%%time\n",
    "tsap = cd.run_function(sim.tsap, data)\n",
    "n_clusts = cd.run_function(sim.n_clusts, tsap)\n",
    "avg_clusts = cd.run_function(sim.avg_clust_size, tsap)\n",
    "min_clusts = cd.run_function(sim.min_clust_size, tsap)\n",
    "max_clusts = cd.run_function(sim.max_clust_size, tsap)\n",
    "viz.line(n_clusts,\n",
    "         1,\n",
    "         title='Number of Clusters Over Time',\n",
    "         xtitle='Time step',\n",
    "         ytitle='Number of Clusters')\n",
    "viz.line(avg_clusts,\n",
    "         1,\n",
    "         title='Average Cluster Size Over Time',\n",
    "         xtitle='Time step',\n",
    "         ytitle='Number of Clusters')\n",
    "viz.line(max_clusts,\n",
    "         1,\n",
    "         title='Maximum Cluster Size Over Time',\n",
    "         xtitle='Time step',\n",
    "         ytitle='Number of Clusters')\n",
    "viz.line(min_clusts,\n",
    "         1,\n",
    "         title='Minimum Cluster Size Over Time',\n",
    "         xtitle='Time step',\n",
    "         ytitle='Number of Clusters')"
   ]
  },
  {
   "cell_type": "code",
   "execution_count": null,
   "metadata": {
    "collapsed": false
   },
   "outputs": [],
   "source": [
    "viz.heatmap_channels(tsap,\n",
    "                     1,\n",
    "                     title='Clusters over Time',\n",
    "                     xtitle='Timestep',\n",
    "                     ytitle='ROI',\n",
    "                     ztitle='Cluster Label')"
   ]
  },
  {
   "cell_type": "code",
   "execution_count": null,
   "metadata": {
    "collapsed": false,
    "scrolled": true
   },
   "outputs": [],
   "source": [
    "%%time\n",
    "dist = cd.run_function(sim.dtw, data)"
   ]
  },
  {
   "cell_type": "code",
   "execution_count": null,
   "metadata": {
    "collapsed": false
   },
   "outputs": [],
   "source": [
    "viz.heatmap_channels(dist,\n",
    "                     1,\n",
    "                     title='Raw Data Heatmap',\n",
    "                     xtitle='Timestep',\n",
    "                     ytitle='ROI',\n",
    "                     ztitle='4D Intensity (mean centered)')"
   ]
  },
  {
   "cell_type": "code",
   "execution_count": null,
   "metadata": {
    "collapsed": false
   },
   "outputs": [],
   "source": [
    "%%time\n",
    "affinity = cd.run_function(basic.neg, dist)\n",
    "labels = cd.run_function(sim.ap, affinity)\n",
    "ordered = cd.run_function(basic.cluster_sort, zip(data, labels))\n",
    "correl = cd.run_function(basic.correl, ordered)"
   ]
  },
  {
   "cell_type": "code",
   "execution_count": null,
   "metadata": {
    "collapsed": false
   },
   "outputs": [],
   "source": [
    "viz.heatmap_channels(correl,\n",
    "                     1,\n",
    "                     title='Raw Data Heatmap',\n",
    "                     xtitle='Timestep',\n",
    "                     ytitle='ROI',\n",
    "                     ztitle='4D Intensity (mean centered)')"
   ]
  },
  {
   "cell_type": "code",
   "execution_count": null,
   "metadata": {
    "collapsed": false
   },
   "outputs": [],
   "source": [
    "%%time\n",
    "sses = cd.run_function(basic.SSE, zip(data, labels))\n",
    "ssses = [np.sum(s) for s in sses]"
   ]
  },
  {
   "cell_type": "code",
   "execution_count": null,
   "metadata": {
    "collapsed": false
   },
   "outputs": [],
   "source": [
    "import matplotlib.pyplot as plt\n",
    "plt.scatter(ssses, dx_groups)\n",
    "plt.show()"
   ]
  },
  {
   "cell_type": "code",
   "execution_count": null,
   "metadata": {
    "collapsed": false
   },
   "outputs": [],
   "source": [
    "%%time\n",
    "silhouette = cd.run_function(basic.silhouette, zip(dist, labels))\n",
    "plt.scatter(silhouette, dx_groups)\n",
    "plt.show()"
   ]
  },
  {
   "cell_type": "code",
   "execution_count": null,
   "metadata": {
    "collapsed": true
   },
   "outputs": [],
   "source": []
  }
 ],
 "metadata": {
  "kernelspec": {
   "display_name": "Python 2",
   "language": "python",
   "name": "python2"
  },
  "language_info": {
   "codemirror_mode": {
    "name": "ipython",
    "version": 2
   },
   "file_extension": ".py",
   "mimetype": "text/x-python",
   "name": "python",
   "nbconvert_exporter": "python",
   "pygments_lexer": "ipython2",
   "version": "2.7.12"
  }
 },
 "nbformat": 4,
 "nbformat_minor": 1
}
