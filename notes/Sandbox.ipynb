{
 "cells": [
  {
   "cell_type": "code",
   "execution_count": null,
   "metadata": {
    "collapsed": false
   },
   "outputs": [],
   "source": [
    "%%time\n",
    "import os\n",
    "import numpy as np\n",
    "os.chdir('../src/')\n",
    "from util import clean_data as cd\n",
    "from util import viz\n",
    "import algos.basic as basic\n",
    "import algos.similarity as sim\n",
    "METADATA_PATH = '../data/Phenotypic_V1_0b_preprocessed1.csv'\n",
    "PREFIX = '../data/rois_ez/'\n",
    "POSTFIX = '_rois_ez.1D'"
   ]
  },
  {
   "cell_type": "code",
   "execution_count": null,
   "metadata": {
    "collapsed": false
   },
   "outputs": [],
   "source": [
    "%%time\n",
    "md = cd.get_metadata(METADATA_PATH, ['FILE_ID', 'DX_GROUP'])"
   ]
  },
  {
   "cell_type": "code",
   "execution_count": null,
   "metadata": {
    "collapsed": false
   },
   "outputs": [],
   "source": [
    "%%time\n",
    "f_names = cd.get_filenames(md, PREFIX, POSTFIX)"
   ]
  },
  {
   "cell_type": "code",
   "execution_count": null,
   "metadata": {
    "collapsed": false
   },
   "outputs": [],
   "source": [
    "%%time\n",
    "data = cd.get_data(f_names)"
   ]
  },
  {
   "cell_type": "code",
   "execution_count": null,
   "metadata": {
    "collapsed": false
   },
   "outputs": [],
   "source": [
    "%%time\n",
    "data = cd.run_function(basic.transpose, data)\n",
    "#data = [np.array([[1,2,3,4], [4,5,6,7]]),\n",
    "#        np.array([[12,5,3,4], [4,9,6,7]])]"
   ]
  },
  {
   "cell_type": "code",
   "execution_count": null,
   "metadata": {
    "collapsed": false
   },
   "outputs": [],
   "source": [
    "%%time\n",
    "data = cd.run_function(basic.mean_center, data)"
   ]
  },
  {
   "cell_type": "code",
   "execution_count": null,
   "metadata": {
    "collapsed": false
   },
   "outputs": [],
   "source": [
    "%%time\n",
    "data = cd.run_function(sim.dtw, data)"
   ]
  },
  {
   "cell_type": "code",
   "execution_count": null,
   "metadata": {
    "collapsed": false
   },
   "outputs": [],
   "source": [
    "viz.heatmap_channels(data,\n",
    "                     2,\n",
    "                     title='Raw Data Heatmap',\n",
    "                     xtitle='Timestep',\n",
    "                     ytitle='ROI',\n",
    "                     ztitle='4D Intensity (mean centered)')"
   ]
  },
  {
   "cell_type": "code",
   "execution_count": null,
   "metadata": {
    "collapsed": true
   },
   "outputs": [],
   "source": [
    "\n"
   ]
  }
 ],
 "metadata": {
  "kernelspec": {
   "display_name": "Python 2",
   "language": "python",
   "name": "python2"
  },
  "language_info": {
   "codemirror_mode": {
    "name": "ipython",
    "version": 2
   },
   "file_extension": ".py",
   "mimetype": "text/x-python",
   "name": "python",
   "nbconvert_exporter": "python",
   "pygments_lexer": "ipython2",
   "version": "2.7.12"
  }
 },
 "nbformat": 4,
 "nbformat_minor": 1
}
